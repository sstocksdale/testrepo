{
  "metadata": {
    "language_info": {
      "codemirror_mode": {
        "name": "python",
        "version": 3
      },
      "file_extension": ".py",
      "mimetype": "text/x-python",
      "name": "python",
      "nbconvert_exporter": "python",
      "pygments_lexer": "ipython3",
      "version": "3.8"
    },
    "kernelspec": {
      "name": "python",
      "display_name": "Pyolite",
      "language": "python"
    }
  },
  "nbformat_minor": 4,
  "nbformat": 4,
  "cells": [
    {
      "cell_type": "markdown",
      "source": "# Samantha Stocksdale",
      "metadata": {}
    },
    {
      "cell_type": "markdown",
      "source": "Current Occupation: Business Development and Marketing manager",
      "metadata": {}
    },
    {
      "cell_type": "markdown",
      "source": "*I am interested in data science becuase I want to expain on my data communication skills. I want to expand my data analysis capabilities and be able to provide solutions and recommendations that will improve organization function.*\n",
      "metadata": {}
    },
    {
      "cell_type": "markdown",
      "source": "### The below code will solve a simple math equation. ###\n",
      "metadata": {}
    },
    {
      "cell_type": "code",
      "source": "1+1",
      "metadata": {
        "trusted": true
      },
      "execution_count": 1,
      "outputs": [
        {
          "execution_count": 1,
          "output_type": "execute_result",
          "data": {
            "text/plain": "2"
          },
          "metadata": {}
        }
      ]
    },
    {
      "cell_type": "markdown",
      "source": "***",
      "metadata": {}
    },
    {
      "cell_type": "markdown",
      "source": "- Bullet One\n- Bullet Two \n- Bullet Three",
      "metadata": {}
    },
    {
      "cell_type": "markdown",
      "source": "1. One\n2. Two\n3. Three",
      "metadata": {}
    },
    {
      "cell_type": "markdown",
      "source": "<p>I will display &#9658;</p>",
      "metadata": {}
    },
    {
      "cell_type": "code",
      "source": "",
      "metadata": {},
      "execution_count": null,
      "outputs": []
    }
  ]
}